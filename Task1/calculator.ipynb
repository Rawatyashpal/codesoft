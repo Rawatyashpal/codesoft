{
 "cells": [
  {
   "cell_type": "code",
   "execution_count": 3,
   "id": "66e38905",
   "metadata": {},
   "outputs": [
    {
     "name": "stdout",
     "output_type": "stream",
     "text": [
      " select 1 option from these : \n",
      "1.for addition\n",
      "2. for substraction \n",
      "3.for multiplication \n",
      "4. for devide\n",
      "56 / 12 = 4.666666666666667\n"
     ]
    }
   ],
   "source": [
    "## PROGRAM FOR A SIMPLE CALCULATOR \n",
    "def add(n1,n2):\n",
    "    return(n1+n2)\n",
    "def min(n1,n2):\n",
    "    return(n1-n2)\n",
    "def mul(n1,n2):\n",
    "    return(n1*n2)\n",
    "def div(n1,n2):\n",
    "    return(n1/n2)\n",
    "\n",
    "print(\" select 1 option from these : \\n\" \\\n",
    "\"1.for addition\\n\" \\\n",
    "\"2. for substraction \\n\" \\\n",
    "\n",
    "\"3.for multiplication \\n\" \\\n",
    "\n",
    "\"4. for devide\")\n",
    "\n",
    "sel=int(input(\"select the number between 1-4 \"))\n",
    "n1=int(input(\"please enter first number \"))\n",
    "n2=int(input(\"please enter second number \"))\n",
    "\n",
    "if sel==1:\n",
    "    print(n1,\"+\",n2,\"=\",add(n1,n2))\n",
    "elif sel==2:\n",
    "    print(n1,\"-\",n2,\"=\",min(n1,n2))\n",
    "elif sel==3:\n",
    "    print(n1,\"*\",n2,\"=\",mul(n1,n2))\n",
    "elif sel==4:\n",
    "    print(n1,\"/\",n2,\"=\",div(n1,n2))\n",
    "else:\n",
    "    print(\"invalid operation:\")\n",
    "\n",
    "\n",
    "\n"
   ]
  },
  {
   "cell_type": "code",
   "execution_count": null,
   "metadata": {},
   "outputs": [],
   "source": []
  },
  {
   "cell_type": "code",
   "execution_count": null,
   "id": "c43813f5",
   "metadata": {},
   "outputs": [],
   "source": []
  }
 ],
 "metadata": {
  "kernelspec": {
   "display_name": "Python 3",
   "language": "python",
   "name": "python3"
  },
  "language_info": {
   "codemirror_mode": {
    "name": "ipython",
    "version": 3
   },
   "file_extension": ".py",
   "mimetype": "text/x-python",
   "name": "python",
   "nbconvert_exporter": "python",
   "pygments_lexer": "ipython3",
   "version": "3.12.5"
  }
 },
 "nbformat": 4,
 "nbformat_minor": 5
}

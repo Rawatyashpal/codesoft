{
 "cells": [
  {
   "cell_type": "code",
   "execution_count": 4,
   "id": "f7c7317f",
   "metadata": {},
   "outputs": [
    {
     "name": "stdout",
     "output_type": "stream",
     "text": [
      "Generated Password: A:oOwLQ)0,\n"
     ]
    }
   ],
   "source": [
    "import random\n",
    "import string\n",
    "password_user = input(\"Enter your password: \")\n",
    "def password_generator(length=10):\n",
    "    characters = string.ascii_letters + string.digits + string.punctuation\n",
    "    # Generate a random password of the given length\n",
    "    password = ''.join(random.choice(characters) for __ in range(length))\n",
    "    return password\n",
    "password_length = 10\n",
    "generated_password = password_generator(password_length)\n",
    "print(f\"Generated Password: {generated_password}\")"
   ]
  },
  {
   "cell_type": "code",
   "execution_count": null,
   "id": "827a504d",
   "metadata": {},
   "outputs": [],
   "source": []
  }
 ],
 "metadata": {
  "kernelspec": {
   "display_name": "Python 3",
   "language": "python",
   "name": "python3"
  },
  "language_info": {
   "codemirror_mode": {
    "name": "ipython",
    "version": 3
   },
   "file_extension": ".py",
   "mimetype": "text/x-python",
   "name": "python",
   "nbconvert_exporter": "python",
   "pygments_lexer": "ipython3",
   "version": "3.12.5"
  }
 },
 "nbformat": 4,
 "nbformat_minor": 5
}
